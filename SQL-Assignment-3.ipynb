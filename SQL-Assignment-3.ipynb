{
 "cells": [
  {
   "cell_type": "markdown",
   "id": "b3d08535",
   "metadata": {},
   "source": [
    "<img src=\"https://raw.githubusercontent.com/afo/data-x-plaksha/master/imgsource/dx_logo.png\" align=\"left\"></img><br><br><br><br>"
   ]
  },
  {
   "cell_type": "markdown",
   "id": "4c408082",
   "metadata": {},
   "source": [
    "## Plaksha SQL assignment"
   ]
  },
  {
   "cell_type": "markdown",
   "id": "7f7d4113-c3a9-47b2-b7df-b844d49abd22",
   "metadata": {},
   "source": [
    "---\n",
    "\n",
    "## Submission details:\n",
    "\n",
    "Please submit this as a Jupyter Notebook and a PDF of your results (both should show output). Also push your solutions to Github.\n",
    "\n",
    "For the submision create a local database with `sqlite3` or `sqlalchemy` in a Jupyter notebook and make the queries either with a cursor object (and then print the results) or by using pandas `pd.read_sql_query()`."
   ]
  },
  {
   "cell_type": "markdown",
   "id": "0c551f03-7eff-43e2-89a7-a53b54098223",
   "metadata": {},
   "source": [
    "___\n",
    "\n",
    "When completing this homework you can experiment with SQL commands by utilizing this great online editor:\n",
    "\n",
    "https://www.w3schools.com/sql/trysql.asp?filename=trysql_select_all\n",
    "\n",
    "There are already some tables in the online Database, namely:\n",
    "\n",
    "`Categories, Employees, OrderDetails, Orders, Products, Shippers, and Suppliers.`\n",
    "\n",
    "If you want you can drop them by running  `DROP TABLE [table-name];` (or just keep them)."
   ]
  },
  {
   "cell_type": "markdown",
   "id": "dccc820f-21b0-4b2c-9ca8-9cb9eab76023",
   "metadata": {},
   "source": [
    "___\n",
    "\n",
    "## Exercises:\n",
    "\n",
    "First create a table called students. It has the columns: 'student_id', 'name', 'major', 'gpa' and 'enrollment_date' We will use a new form of `CREATE TABLE` expression to produce this table.\n",
    "\n",
    "Note that you can improve this and are welcome to do so -- e.g. by specifying for example a PRIMARY KEY and a FOREIGN KEY in Q2 :)\n",
    "\n",
    "    CREATE TABLE students AS\n",
    "        SELECT 1 AS student_id, \"John\" AS name, \"Computer Science\" AS major, 3.5 AS gpa, \"01-01-2022\" AS enrollment_date UNION\n",
    "        SELECT 2, \"Jane\", \"Physics\", 3.8, \"01-02-2022\" UNION\n",
    "        SELECT 3, \"Bob\", \"Engineering\", 3.0, \"01-03-2022\" UNION\n",
    "        SELECT 4, \"Samantha\", \"Physics\", 3.9, \"01-04-2022\" UNION\n",
    "        SELECT 5, \"James\", \"Engineering\", 3.7, \"01-05-2022\" UNION\n",
    "        SELECT 6, \"Emily\", \"Computer Science\", 3.6, \"01-06-2022\" UNION\n",
    "        SELECT 7, \"Michael\", \"Computer Science\", 3.2, \"01-07-2022\" UNION\n",
    "        SELECT 8, \"Jessica\", \"Engineering\", 3.8, \"01-08-2022\" UNION\n",
    "        SELECT 9, \"Jacob\", \"Physics\", 3.4, \"01-09-2022\" UNION\n",
    "        SELECT 10, \"Ashley\", \"Physics\", 3.9, \"01-10-2022\";\n",
    "\n",
    "\n",
    "## Q1 Simple SELECTS (on the students table)\n",
    "1. SELECT all records in the table.\n",
    "2. SELECT students whose major is \"Computer Science\".\n",
    "3. SELECT all unique majors (use SELECT DISTINCT) and order them by name, descending order (i.e. Physics first).\n",
    "4. SELECT all students that have an 'e' in their name and order them by gpa in ascending order.\n",
    "\n",
    "\n",
    "## Q2 Joins\n",
    "\n",
    "Create a new table called courses, which indicates the courses taken by the students. \n",
    "\n",
    "Create the table by running:\n",
    "\t\n",
    "    CREATE TABLE courses AS\n",
    "        SELECT 1 AS course_id, \"Python programming\" AS course_name, 1 AS student_id, \"A\" AS grade UNION\n",
    "        SELECT 2, \"Data Structures\", 2, \"B\" UNION\n",
    "        SELECT 3, \"Database Systems\", 3, \"B\" UNION\n",
    "        SELECT 1, \"Python programming\", 4, \"A\" UNION\n",
    "        SELECT 4, \"Quantum Mechanics\", 5, \"C\" UNION\n",
    "        SELECT 1, \"Python programming\", 6, \"F\" UNION\n",
    "        SELECT 2, \"Data Structures\", 7, \"C\" UNION\n",
    "        SELECT 3, \"Database Systems\", 8, \"A\" UNION\n",
    "        SELECT 4, \"Quantum Mechanics\", 9, \"A\" UNION\n",
    "        SELECT 2, \"Data Structures\", 10, \"F\";\n",
    "\n",
    "1. COUNT the number of unique courses.\n",
    "2. JOIN the tables students and courses and COUNT the number of students with the major Computer Science taking the course Python programming.\n",
    "3. JOIN the tables students and courses and select the students who have grades higher than \"C\", only show their name, major, gpa, course_name and grade.\n",
    "\n",
    "\n",
    "## Q3 Aggregate functions, numerical logic and grouping\n",
    "\n",
    "1. Find the average gpa of all students.\n",
    "2. SELECT the student with the maximum gpa, display only their student_id, major and gpa\n",
    "3. SELECT the student with the minimum gpa, display only their student_id, major and gpa\n",
    "4. SELECT the students with a gpa greater than 3.6 in the majors of \"Physics\" and \"Engineering\", display only their student_id, major and gpa\n",
    "5. Group the students by their major and retrieve the average grade of each major.\n",
    "6. SELECT the top 2 students with the highest GPA in each major and order the results by major in ascending order, then by GPA in descending order"
   ]
  },
  {
   "cell_type": "markdown",
   "id": "3ab84519",
   "metadata": {},
   "source": [
    "# Your solution"
   ]
  },
  {
   "cell_type": "markdown",
   "id": "74aa9026",
   "metadata": {},
   "source": [
    "First We will create the table using local database created by sqlite3 and then apply the functions given in the exercise"
   ]
  },
  {
   "cell_type": "markdown",
   "id": "775eeb74",
   "metadata": {},
   "source": [
    "Create a student table having column names as student_id, name, major, gpa and enrollment_date and enter the data given."
   ]
  },
  {
   "cell_type": "code",
   "execution_count": 1,
   "id": "872431bc",
   "metadata": {},
   "outputs": [],
   "source": [
    "import sqlite3\n",
    "import pandas as pd\n",
    "# Connect to the local database or create one\n",
    "conn = sqlite3.connect('records.db')\n",
    "\n",
    "# Create a cursor object\n",
    "cursor = conn.cursor()\n",
    "\n",
    "# Create the students table\n",
    "cursor.execute('''\n",
    "CREATE TABLE students (\n",
    "student_id INT,\n",
    "name TEXT,\n",
    "major TEXT,\n",
    "gpa REAL,\n",
    "enrollment_date TEXT\n",
    ");\n",
    "''')\n",
    "\n",
    "# Insert data into the table\n",
    "cursor.execute('''\n",
    "INSERT INTO students (student_id, name, major, gpa, enrollment_date)\n",
    "VALUES\n",
    "(1, 'John', 'Computer Science', 3.5, '2022-01-01'),\n",
    "(2, 'Jane', 'Physics', 3.8, '2022-01-02'),\n",
    "(3, 'Bob', 'Engineering', 3.0, '2022-01-03'),\n",
    "(4, 'Samantha', 'Physics', 3.9, '2022-01-04'),\n",
    "(5, 'James', 'Engineering', 3.7, '2022-01-05'),\n",
    "(6, 'Emily', 'Computer Science', 3.6, '2022-01-06'),\n",
    "(7, 'Michael', 'Computer Science', 3.2, '2022-01-07'),\n",
    "(8, 'Jessica', 'Engineering', 3.8, '2022-01-08'),\n",
    "(9, 'Jacob', 'Physics', 3.4, '2022-01-09'),\n",
    "(10, 'Ashley', 'Physics', 3.9, '2022-01-10');\n",
    "''')\n",
    "\n",
    "# Commit changes and close the connection\n",
    "conn.commit()\n",
    "conn.close()"
   ]
  },
  {
   "cell_type": "markdown",
   "id": "48485981",
   "metadata": {},
   "source": [
    "## Simple SELECTS (on the students table)"
   ]
  },
  {
   "cell_type": "code",
   "execution_count": 2,
   "id": "bcaae6ff",
   "metadata": {},
   "outputs": [],
   "source": [
    "# Connect to the database\n",
    "conn = sqlite3.connect('records.db')\n",
    "\n",
    "# Create a cursor object\n",
    "cursor = conn.cursor()"
   ]
  },
  {
   "cell_type": "markdown",
   "id": "35dc750e",
   "metadata": {},
   "source": [
    "**1. SELECT all records in the table.**"
   ]
  },
  {
   "cell_type": "code",
   "execution_count": 3,
   "id": "00bb41ff",
   "metadata": {},
   "outputs": [
    {
     "name": "stdout",
     "output_type": "stream",
     "text": [
      "Select all records in the table \n",
      "    student_id      name             major  gpa enrollment_date\n",
      "0           1      John  Computer Science  3.5      2022-01-01\n",
      "1           2      Jane           Physics  3.8      2022-01-02\n",
      "2           3       Bob       Engineering  3.0      2022-01-03\n",
      "3           4  Samantha           Physics  3.9      2022-01-04\n",
      "4           5     James       Engineering  3.7      2022-01-05\n",
      "5           6     Emily  Computer Science  3.6      2022-01-06\n",
      "6           7   Michael  Computer Science  3.2      2022-01-07\n",
      "7           8   Jessica       Engineering  3.8      2022-01-08\n",
      "8           9     Jacob           Physics  3.4      2022-01-09\n",
      "9          10    Ashley           Physics  3.9      2022-01-10\n"
     ]
    }
   ],
   "source": [
    "selectall_qr = '''SELECT * \n",
    "                  FROM students;\n",
    "               '''\n",
    "selectall = pd.read_sql_query(selectall_qr, conn)\n",
    "print('Select all records in the table \\n',selectall)"
   ]
  },
  {
   "cell_type": "markdown",
   "id": "326ad6f9",
   "metadata": {},
   "source": [
    "**2. SELECT students whose major is \"Computer Science\".**"
   ]
  },
  {
   "cell_type": "code",
   "execution_count": 4,
   "id": "41f7aeb7",
   "metadata": {},
   "outputs": [
    {
     "name": "stdout",
     "output_type": "stream",
     "text": [
      "Select students whose major is \"Computer Science\" \n",
      "    student_id     name             major  gpa enrollment_date\n",
      "0           1     John  Computer Science  3.5      2022-01-01\n",
      "1           6    Emily  Computer Science  3.6      2022-01-06\n",
      "2           7  Michael  Computer Science  3.2      2022-01-07\n"
     ]
    }
   ],
   "source": [
    "selectcs_qr = '''SELECT * \n",
    "                 FROM students \n",
    "                 WHERE major=\"Computer Science\";\n",
    "              '''\n",
    "selectcs = pd.read_sql_query(selectcs_qr, conn)\n",
    "print('Select students whose major is \"Computer Science\" \\n',selectcs)"
   ]
  },
  {
   "cell_type": "markdown",
   "id": "a593e009",
   "metadata": {},
   "source": [
    "**3. SELECT all unique majors (use SELECT DISTINCT) and order them by name, descending order (i.e. Physics first).**"
   ]
  },
  {
   "cell_type": "code",
   "execution_count": 5,
   "id": "2da8236f",
   "metadata": {},
   "outputs": [
    {
     "name": "stdout",
     "output_type": "stream",
     "text": [
      "Select all unique majors and order them by name, descending order \n",
      "               major\n",
      "0           Physics\n",
      "1       Engineering\n",
      "2  Computer Science\n"
     ]
    }
   ],
   "source": [
    "selectmaj_qr = '''SELECT DISTINCT major \n",
    "                  FROM students \n",
    "                  ORDER BY major DESC;\n",
    "               '''\n",
    "select_maj = pd.read_sql_query(selectmaj_qr, conn)\n",
    "print('Select all unique majors and order them by name, descending order \\n',select_maj)"
   ]
  },
  {
   "cell_type": "markdown",
   "id": "8c11ab65",
   "metadata": {},
   "source": [
    "**4. SELECT all students that have an 'e' in their name and order them by gpa in ascending order.**"
   ]
  },
  {
   "cell_type": "code",
   "execution_count": 6,
   "id": "0df6eed7",
   "metadata": {},
   "outputs": [
    {
     "name": "stdout",
     "output_type": "stream",
     "text": [
      "Select all students that have an \"e\" in their name and order them by gpa in ascending order \n",
      "    student_id     name             major  gpa enrollment_date\n",
      "0           7  Michael  Computer Science  3.2      2022-01-07\n",
      "1           6    Emily  Computer Science  3.6      2022-01-06\n",
      "2           5    James       Engineering  3.7      2022-01-05\n",
      "3           2     Jane           Physics  3.8      2022-01-02\n",
      "4           8  Jessica       Engineering  3.8      2022-01-08\n",
      "5          10   Ashley           Physics  3.9      2022-01-10\n"
     ]
    }
   ],
   "source": [
    "selecte_qr = '''SELECT * \n",
    "                FROM students\n",
    "                WHERE name LIKE '%e%'\n",
    "                ORDER BY gpa ASC;\n",
    "             '''\n",
    "selecte = pd.read_sql_query(selecte_qr, conn)\n",
    "print('Select all students that have an \"e\" in their name and order them by gpa in ascending order \\n',selecte)"
   ]
  },
  {
   "cell_type": "code",
   "execution_count": 7,
   "id": "a41673d3",
   "metadata": {},
   "outputs": [],
   "source": [
    "# Close the connection\n",
    "conn.close()"
   ]
  },
  {
   "cell_type": "markdown",
   "id": "54048926",
   "metadata": {},
   "source": [
    "Create new table courses and perform the given tasks"
   ]
  },
  {
   "cell_type": "code",
   "execution_count": 8,
   "id": "45938b9c",
   "metadata": {},
   "outputs": [],
   "source": [
    "import sqlite3\n",
    "import pandas as pd\n",
    "# Connect to the local database or create one\n",
    "conn = sqlite3.connect('records.db')\n",
    "\n",
    "# Create a cursor object\n",
    "cursor = conn.cursor()\n",
    "\n",
    "# Create courses table\n",
    "cursor.execute('''\n",
    "CREATE TABLE courses (\n",
    "course_id INT,\n",
    "course_name TEXT,\n",
    "student_id INT,\n",
    "grade TEXT\n",
    ");\n",
    "''')\n",
    "\n",
    "# Insert data into the table\n",
    "cursor.execute('''\n",
    "INSERT INTO courses (course_id, course_name, student_id, grade)\n",
    "VALUES\n",
    "(1, \"Python programming\", 1, \"A\"),\n",
    "(2, \"Data Structures\", 2, \"B\"),\n",
    "(3, \"Database Systems\", 3, \"B\"),\n",
    "(1, \"Python programming\", 4, \"A\"),\n",
    "(4, \"Quantum Mechanics\", 5, \"C\"),\n",
    "(1, \"Python programming\", 6, \"F\"),\n",
    "(2, \"Data Structures\", 7, \"C\"),\n",
    "(3, \"Database Systems\", 8, \"A\"),\n",
    "(4, \"Quantum Mechanics\", 9, \"A\"),\n",
    "(2, \"Data Structures\", 10, \"F\");\n",
    "''')\n",
    "\n",
    "# Commit changes and close the connection\n",
    "conn.commit()\n",
    "conn.close()"
   ]
  },
  {
   "cell_type": "markdown",
   "id": "26697864",
   "metadata": {},
   "source": [
    "# Joins"
   ]
  },
  {
   "cell_type": "code",
   "execution_count": 9,
   "id": "574b60e2",
   "metadata": {},
   "outputs": [],
   "source": [
    "# Connect to the database\n",
    "conn = sqlite3.connect('records.db')\n",
    "\n",
    "# Create cursor object\n",
    "cursor = conn.cursor()"
   ]
  },
  {
   "cell_type": "markdown",
   "id": "4d542b82",
   "metadata": {},
   "source": [
    "**1. COUNT the number of unique courses.**"
   ]
  },
  {
   "cell_type": "code",
   "execution_count": 10,
   "id": "b181d6c4",
   "metadata": {},
   "outputs": [
    {
     "name": "stdout",
     "output_type": "stream",
     "text": [
      "Count the number of unique courses.\n",
      "    course_name\n",
      "0            4\n"
     ]
    }
   ],
   "source": [
    "selectco_qr = '''SELECT COUNT( DISTINCT course_name) as course_name \n",
    "                 FROM courses;\n",
    "              '''\n",
    "select_co = pd.read_sql_query(selectco_qr, conn)\n",
    "print('Count the number of unique courses.\\n',select_co)"
   ]
  },
  {
   "cell_type": "markdown",
   "id": "40100f5b",
   "metadata": {},
   "source": [
    "**2. JOIN the tables students and courses and COUNT the number of students with the major Computer Science taking the course Python programming.**"
   ]
  },
  {
   "cell_type": "code",
   "execution_count": 11,
   "id": "9ca625fa",
   "metadata": {},
   "outputs": [
    {
     "name": "stdout",
     "output_type": "stream",
     "text": [
      "Students with the major Computer Science taking the course Python.\n",
      "    COUNT(*)\n",
      "0         2\n"
     ]
    }
   ],
   "source": [
    "selectcspy_qr = '''SELECT COUNT(*) \n",
    "                   FROM students \n",
    "                   JOIN courses ON students.student_id = courses.student_id \n",
    "                   WHERE major = \"Computer Science\" \n",
    "                   AND course_name = \"Python programming\";\n",
    "                '''\n",
    "select_cspy = pd.read_sql_query(selectcspy_qr, conn)\n",
    "print('Students with the major Computer Science taking the course Python.\\n',select_cspy)"
   ]
  },
  {
   "cell_type": "markdown",
   "id": "6995ec96",
   "metadata": {},
   "source": [
    "**3. JOIN the tables students and courses and select the students who have grades higher than \"C\", only show their name, major, gpa, course_name and grade.**"
   ]
  },
  {
   "cell_type": "code",
   "execution_count": 12,
   "id": "25b05bc3",
   "metadata": {},
   "outputs": [
    {
     "name": "stdout",
     "output_type": "stream",
     "text": [
      "Students who have grades higher than \"C\"\n",
      "        name             major  gpa         course_name grade\n",
      "0      John  Computer Science  3.5  Python programming     A\n",
      "1      Jane           Physics  3.8     Data Structures     B\n",
      "2       Bob       Engineering  3.0    Database Systems     B\n",
      "3  Samantha           Physics  3.9  Python programming     A\n",
      "4   Jessica       Engineering  3.8    Database Systems     A\n",
      "5     Jacob           Physics  3.4   Quantum Mechanics     A\n"
     ]
    }
   ],
   "source": [
    "selecthc_qr = '''SELECT name, major, gpa, course_name, grade \n",
    "                    FROM students \n",
    "                    JOIN courses \n",
    "                    ON students.student_id = courses.student_id \n",
    "                    WHERE grade < \"C\";\n",
    "                 '''\n",
    "select_hc = pd.read_sql_query(selecthc_qr, conn)\n",
    "print('Students who have grades higher than \"C\"\\n',select_hc)"
   ]
  },
  {
   "cell_type": "code",
   "execution_count": 13,
   "id": "cc93f2b9",
   "metadata": {},
   "outputs": [],
   "source": [
    "# Close the connection\n",
    "conn.close()"
   ]
  },
  {
   "cell_type": "markdown",
   "id": "08ac0ce0",
   "metadata": {},
   "source": [
    "## Q3 Aggregate functions, numerical logic and grouping"
   ]
  },
  {
   "cell_type": "code",
   "execution_count": 14,
   "id": "68e0f6e5",
   "metadata": {},
   "outputs": [],
   "source": [
    "# Connect to the database\n",
    "conn = sqlite3.connect('records.db')\n",
    "\n",
    "# Create a cursor object\n",
    "cursor = conn.cursor()"
   ]
  },
  {
   "cell_type": "markdown",
   "id": "470d6590",
   "metadata": {},
   "source": [
    "**1. Find the average gpa of all students.**"
   ]
  },
  {
   "cell_type": "code",
   "execution_count": 15,
   "id": "8de84312",
   "metadata": {},
   "outputs": [
    {
     "name": "stdout",
     "output_type": "stream",
     "text": [
      "Average gpa of all students.\n",
      "    AVG(gpa)\n",
      "0      3.58\n"
     ]
    }
   ],
   "source": [
    "avg_qr = '''SELECT AVG(gpa) \n",
    "               FROM students;\n",
    "            '''\n",
    "avg_gpa = pd.read_sql_query(avg_qr, conn)\n",
    "print('Average gpa of all students.\\n',avg_gpa)"
   ]
  },
  {
   "cell_type": "markdown",
   "id": "2fde7400",
   "metadata": {},
   "source": [
    "**2. SELECT the student with the maximum gpa, display only their student_id, major and gpa.**"
   ]
  },
  {
   "cell_type": "code",
   "execution_count": 16,
   "id": "c951c716",
   "metadata": {},
   "outputs": [
    {
     "name": "stdout",
     "output_type": "stream",
     "text": [
      "Student with the maximum gpa.\n",
      "    student_id    major  gpa\n",
      "0           4  Physics  3.9\n",
      "1          10  Physics  3.9\n"
     ]
    }
   ],
   "source": [
    "maxgpa_qr = '''SELECT student_id, major, gpa\n",
    "               FROM students\n",
    "               WHERE gpa = (SELECT MAX(gpa) FROM students);\n",
    "            '''\n",
    "max_gpa = pd.read_sql_query(maxgpa_qr, conn)\n",
    "print('Student with the maximum gpa.\\n',max_gpa)"
   ]
  },
  {
   "cell_type": "markdown",
   "id": "dfd86797",
   "metadata": {},
   "source": [
    "**3. SELECT the student with the minimum gpa, display only their student_id, major and gpa.**"
   ]
  },
  {
   "cell_type": "code",
   "execution_count": 17,
   "id": "ce8f4d3f",
   "metadata": {},
   "outputs": [
    {
     "name": "stdout",
     "output_type": "stream",
     "text": [
      "Student with the minimum gpa.\n",
      "    student_id        major  gpa\n",
      "0           3  Engineering  3.0\n"
     ]
    }
   ],
   "source": [
    "mingpa_qr = '''SELECT student_id, major, gpa\n",
    "               FROM students\n",
    "               WHERE gpa = (SELECT MIN(gpa) FROM students);\n",
    "            '''\n",
    "min_gpa = pd.read_sql_query(mingpa_qr, conn)\n",
    "print('Student with the minimum gpa.\\n',min_gpa)"
   ]
  },
  {
   "cell_type": "markdown",
   "id": "cba3f539",
   "metadata": {},
   "source": [
    "**4. SELECT the students with a gpa greater than 3.6 in the majors of \"Physics\" and \"Engineering\", display only their student_id, major and gpa.**"
   ]
  },
  {
   "cell_type": "code",
   "execution_count": 18,
   "id": "82504b1a",
   "metadata": {},
   "outputs": [
    {
     "name": "stdout",
     "output_type": "stream",
     "text": [
      "Students with a gpa greater than 3.6 in the majors of \"Physics\" and \"Engineering\".\n",
      "    student_id        major  gpa\n",
      "0           2      Physics  3.8\n",
      "1           4      Physics  3.9\n",
      "2           5  Engineering  3.7\n",
      "3           8  Engineering  3.8\n",
      "4          10      Physics  3.9\n"
     ]
    }
   ],
   "source": [
    "gr_qr = '''SELECT student_id, major, gpa\n",
    "               FROM students\n",
    "               WHERE major IN ('Physics', 'Engineering') AND gpa > 3.6;\n",
    "            '''\n",
    "gr_gpa = pd.read_sql_query(gr_qr, conn)\n",
    "print('Students with a gpa greater than 3.6 in the majors of \"Physics\" and \"Engineering\".\\n',gr_gpa)"
   ]
  },
  {
   "cell_type": "markdown",
   "id": "7e3a2ef1",
   "metadata": {},
   "source": [
    "**5. Group the students by their major and retrieve the average grade of each major.**"
   ]
  },
  {
   "cell_type": "code",
   "execution_count": 19,
   "id": "1fbbf61c",
   "metadata": {},
   "outputs": [
    {
     "name": "stdout",
     "output_type": "stream",
     "text": [
      "Average grade of each major.\n",
      "               major  AVG(gpa)\n",
      "0  Computer Science  3.433333\n",
      "1       Engineering  3.500000\n",
      "2           Physics  3.750000\n"
     ]
    }
   ],
   "source": [
    "avg_maj_qr = '''SELECT major, AVG(gpa)\n",
    "               FROM students\n",
    "               GROUP BY major;\n",
    "            '''\n",
    "avg_maj = pd.read_sql_query(avg_maj_qr, conn)\n",
    "print('Average grade of each major.\\n',avg_maj)"
   ]
  },
  {
   "cell_type": "markdown",
   "id": "0a7dcaf2",
   "metadata": {},
   "source": [
    "**6. SELECT the top 2 students with the highest GPA in each major and order the results by major in ascending order, then by GPA in descending order**"
   ]
  },
  {
   "cell_type": "code",
   "execution_count": 20,
   "id": "905791c6",
   "metadata": {},
   "outputs": [
    {
     "name": "stdout",
     "output_type": "stream",
     "text": [
      "Average gpa of all students.\n",
      "    student_id             major  gpa\n",
      "0           6  Computer Science  3.6\n",
      "1           1  Computer Science  3.5\n",
      "2           8       Engineering  3.8\n",
      "3           5       Engineering  3.7\n",
      "4           4           Physics  3.9\n",
      "5          10           Physics  3.9\n"
     ]
    }
   ],
   "source": [
    "hgpa_qr = '''WITH students_rank AS (\n",
    "                   SELECT \n",
    "                       student_id, \n",
    "                       major, \n",
    "                       gpa, \n",
    "                       ROW_NUMBER() OVER (PARTITION BY major ORDER BY gpa DESC) AS rank\n",
    "                   FROM students\n",
    "               )\n",
    "               SELECT student_id, major, gpa\n",
    "               FROM students_rank\n",
    "               WHERE rank <= 2\n",
    "               ORDER BY major, gpa DESC;\n",
    "            '''\n",
    "h_gpa = pd.read_sql_query(hgpa_qr, conn)\n",
    "print('Average gpa of all students.\\n',h_gpa)"
   ]
  },
  {
   "cell_type": "code",
   "execution_count": 21,
   "id": "1e766618",
   "metadata": {},
   "outputs": [],
   "source": [
    "# Close the connection\n",
    "conn.close()"
   ]
  }
 ],
 "metadata": {
  "kernelspec": {
   "display_name": "Python 3 (ipykernel)",
   "language": "python",
   "name": "python3"
  },
  "language_info": {
   "codemirror_mode": {
    "name": "ipython",
    "version": 3
   },
   "file_extension": ".py",
   "mimetype": "text/x-python",
   "name": "python",
   "nbconvert_exporter": "python",
   "pygments_lexer": "ipython3",
   "version": "3.9.13"
  }
 },
 "nbformat": 4,
 "nbformat_minor": 5
}
